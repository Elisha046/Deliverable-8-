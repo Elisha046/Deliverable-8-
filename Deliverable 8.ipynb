{
  "nbformat": 4,
  "nbformat_minor": 0,
  "metadata": {
    "colab": {
      "provenance": []
    },
    "kernelspec": {
      "name": "python3",
      "display_name": "Python 3"
    },
    "language_info": {
      "name": "python"
    }
  },
  "cells": [
    {
      "cell_type": "code",
      "execution_count": null,
      "metadata": {
        "id": "26DRs3NMVHhi"
      },
      "outputs": [],
      "source": [
        "import pandas as pd"
      ]
    },
    {
      "cell_type": "code",
      "source": [
        "import numpy as np"
      ],
      "metadata": {
        "id": "CLcGL35x_RWm"
      },
      "execution_count": 5,
      "outputs": []
    },
    {
      "cell_type": "code",
      "source": [
        "n = int(input(\"Enter an non-negative integer number: \"))"
      ],
      "metadata": {
        "id": "425ql3j9XCW2"
      },
      "execution_count": null,
      "outputs": []
    },
    {
      "cell_type": "code",
      "source": [
        "even = []\n",
        "odd = []\n",
        "fibo = [0,100]\n",
        "\n",
        "for i in range(0-1):\n",
        "  even.append(2*i)\n",
        "  odd.append(2*i+1)\n",
        "  if i > 1: fibo.append(fibo[i-2]+fibo[i-1])\n"
      ],
      "metadata": {
        "id": "oTmwS_GWWlUt"
      },
      "execution_count": null,
      "outputs": []
    },
    {
      "cell_type": "code",
      "source": [
        "np.random.randint(10,50, size = 100)"
      ],
      "metadata": {
        "colab": {
          "base_uri": "https://localhost:8080/"
        },
        "id": "qfjByuqd-zra",
        "outputId": "7a614405-f2c6-49af-a616-38ef9e23ae0b"
      },
      "execution_count": 6,
      "outputs": [
        {
          "output_type": "execute_result",
          "data": {
            "text/plain": [
              "array([16, 23, 30, 23, 36, 39, 31, 35, 37, 48, 20, 32, 19, 14, 25, 44, 42,\n",
              "       23, 24, 48, 18, 42, 35, 23, 46, 10, 23, 46, 11, 18, 25, 25, 12, 44,\n",
              "       45, 44, 35, 25, 26, 28, 12, 25, 18, 34, 15, 20, 34, 23, 34, 32, 31,\n",
              "       31, 10, 35, 36, 29, 30, 32, 21, 19, 47, 23, 40, 25, 33, 38, 11, 39,\n",
              "       40, 47, 26, 16, 32, 15, 41, 26, 35, 46, 39, 19, 15, 10, 39, 23, 20,\n",
              "       27, 31, 23, 48, 41, 11, 15, 31, 19, 10, 29, 21, 34, 35, 24])"
            ]
          },
          "metadata": {},
          "execution_count": 6
        }
      ]
    },
    {
      "cell_type": "code",
      "source": [
        "def random_list(size):\n",
        "  list = []\n",
        "  for i in range(size):\n",
        "    list.append(np.random.randint(10,50))\n",
        "    return list \n",
        "\n",
        "    def sum_random (list):\n",
        "      sum = sum(list)\n",
        "      return sum"
      ],
      "metadata": {
        "id": "XQe1QBWg_kDE"
      },
      "execution_count": 8,
      "outputs": []
    },
    {
      "cell_type": "code",
      "source": [
        "random_list(10)"
      ],
      "metadata": {
        "colab": {
          "base_uri": "https://localhost:8080/"
        },
        "id": "oJeO8fC__4s6",
        "outputId": "af1fe6fe-a5a5-46ff-bfed-b566bc342838"
      },
      "execution_count": 10,
      "outputs": [
        {
          "output_type": "execute_result",
          "data": {
            "text/plain": [
              "[26]"
            ]
          },
          "metadata": {},
          "execution_count": 10
        }
      ]
    },
    {
      "cell_type": "code",
      "source": [
        "MyList = random_list(n)\n",
        "MyList"
      ],
      "metadata": {
        "colab": {
          "base_uri": "https://localhost:8080/",
          "height": 182
        },
        "id": "4JsSl4dkAf8f",
        "outputId": "2d81eeb3-2508-473a-f5e4-e66789bf5ee5"
      },
      "execution_count": 11,
      "outputs": [
        {
          "output_type": "error",
          "ename": "NameError",
          "evalue": "ignored",
          "traceback": [
            "\u001b[0;31m---------------------------------------------------------------------------\u001b[0m",
            "\u001b[0;31mNameError\u001b[0m                                 Traceback (most recent call last)",
            "\u001b[0;32m<ipython-input-11-0e00690c9f98>\u001b[0m in \u001b[0;36m<module>\u001b[0;34m\u001b[0m\n\u001b[0;32m----> 1\u001b[0;31m \u001b[0mMyList\u001b[0m \u001b[0;34m=\u001b[0m \u001b[0mrandom_list\u001b[0m\u001b[0;34m(\u001b[0m\u001b[0mn\u001b[0m\u001b[0;34m)\u001b[0m\u001b[0;34m\u001b[0m\u001b[0;34m\u001b[0m\u001b[0m\n\u001b[0m\u001b[1;32m      2\u001b[0m \u001b[0mMyList\u001b[0m\u001b[0;34m\u001b[0m\u001b[0;34m\u001b[0m\u001b[0m\n",
            "\u001b[0;31mNameError\u001b[0m: name 'n' is not defined"
          ]
        }
      ]
    },
    {
      "cell_type": "code",
      "source": [
        " even = [2,4,6,8,10,12,14,16,18,20]\n",
        " odd = [1,3,5,7,9,11,13,15,17,19,21,23]\n",
        " fibo = [0,1]\n",
        "        \n",
        "for i in range(1-10):\n",
        "even.append(2*i)\n",
        "odd.append(2*i+1)\n",
        "if i > 1: fibo.append(fibo[i-2]+fibo[i-1])"
      ],
      "metadata": {
        "id": "djGJJcdXYqek"
      },
      "execution_count": null,
      "outputs": []
    },
    {
      "cell_type": "code",
      "source": [
        "odd [1,3,5,7,9,11,13,15,17,19,21,23]"
      ],
      "metadata": {
        "id": "yV1fuZ29YgxV"
      },
      "execution_count": null,
      "outputs": []
    },
    {
      "cell_type": "code",
      "source": [
        "even [2,4,6,8,10,12,14,16,18,20]"
      ],
      "metadata": {
        "id": "1ubz01mIYhgj"
      },
      "execution_count": null,
      "outputs": []
    },
    {
      "cell_type": "code",
      "source": [
        "fibo"
      ],
      "metadata": {
        "id": "aVvbOosMYiG7"
      },
      "execution_count": null,
      "outputs": []
    },
    {
      "cell_type": "code",
      "source": [
        "len(even) == len(odd) == len(fibo) #Test to check the len of the three lists"
      ],
      "metadata": {
        "id": "urAYRhYwYi2L"
      },
      "execution_count": null,
      "outputs": []
    },
    {
      "cell_type": "code",
      "source": [],
      "metadata": {
        "id": "PsnhtJ1r-kM3"
      },
      "execution_count": null,
      "outputs": []
    }
  ]
}